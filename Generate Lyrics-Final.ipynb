{
 "cells": [
  {
   "cell_type": "markdown",
   "metadata": {},
   "source": [
    "### Imports "
   ]
  },
  {
   "cell_type": "code",
   "execution_count": 22,
   "metadata": {},
   "outputs": [],
   "source": [
    "from __future__ import division, absolute_import, print_function\n",
    "from keras.preprocessing.sequence import pad_sequences\n",
    "from keras.layers import Embedding, LSTM, Dense, Dropout\n",
    "from keras.preprocessing.text import Tokenizer\n",
    "from keras.callbacks import EarlyStopping\n",
    "from keras.models import Sequential\n",
    "from keras.models import load_model\n",
    "from keras.models import model_from_json\n",
    "import keras.utils as ku \n",
    "from tensorflow import set_random_seed\n",
    "from numpy.random import seed\n",
    "from six.moves import urllib, xrange\n",
    "from sklearn.manifold import TSNE\n",
    "import matplotlib.pyplot as plt    \n",
    "%matplotlib inline\n",
    "from IPython import display\n",
    "import time\n",
    "import matplotlib.pyplot as plt\n",
    "import tensorflow as tf\n",
    "import collections, math, os, random, zipfile\n",
    "import pandas as pd\n",
    "import numpy as np\n",
    "import string, os \n",
    "import json\n",
    "\n",
    "set_random_seed(37)\n",
    "seed(7)\n",
    "\n",
    "import warnings\n",
    "warnings.filterwarnings(\"ignore\")\n",
    "warnings.simplefilter(action='ignore', category=FutureWarning)\n"
   ]
  },
  {
   "cell_type": "markdown",
   "metadata": {},
   "source": [
    "### Load Dataset"
   ]
  },
  {
   "cell_type": "code",
   "execution_count": 23,
   "metadata": {},
   "outputs": [
    {
     "name": "stdout",
     "output_type": "stream",
     "text": [
      "Oh baby, how you doing?\n",
      "You know I'm gonna cut right to the chase\n",
      "Some women were made but me, myself\n",
      "I like to think that I was created for a special purpose\n",
      "You know, what's more special than you? You feel me\n",
      "It's on baby, let's get lost\n",
      "You don't need to call into work 'cause you're the boss\n",
      "For real, want you to show me how you feel\n",
      "I consider myself lucky, that's a big deal\n",
      "Why? Well, you got the key to my heart\n",
      "But you ain't gonna need it, I'd rather you open up my body\n",
      "And show me secrets, you didn't know was inside\n",
      "No need for me to lie\n",
      "It's too big, it's too wide\n",
      "It's too strong, it won't fit\n",
      "It's too much, it's too tough\n",
      "He talk like this 'cause he can back it up\n",
      "He got a big ego, such a huge ego\n",
      "I love his big ego, it's too much\n",
      "He walk like this 'cause he can back it up\n",
      "Usually I'm humble, right now I don't choose\n",
      "You can leave with me or you could have the blues\n",
      "Some call it arrogant, I call it confident\n",
      "You decide when you find on what I'm working with\n",
      "Damn I know I'm killing you with them legs\n",
      "Better yet them thighs\n",
      "Matter a fact it's my smile or maybe my eyes\n",
      "Boy you \n"
     ]
    }
   ],
   "source": [
    "curr_dir = './input/'\n",
    "filename = \"lyrics_data.csv\"\n",
    "lyrics_list = []\n",
    "\n",
    "lyrics_df = pd.read_csv(curr_dir + filename)\n",
    "lyrics_list.extend(list(lyrics_df.lyrics.values))\n",
    "    \n",
    "lyrics_list = [str(corpus)[0:1100] for corpus in lyrics_list if corpus != \"Unknown\" ]\n",
    "len(lyrics_list)\n",
    "print(lyrics_list[0])"
   ]
  },
  {
   "cell_type": "markdown",
   "metadata": {},
   "source": [
    "### Clean Dataset"
   ]
  },
  {
   "cell_type": "code",
   "execution_count": 24,
   "metadata": {},
   "outputs": [
    {
     "name": "stdout",
     "output_type": "stream",
     "text": [
      "oh baby how you doing you know im gonna cut right to the chase some women were made but me myself i like to think that i was created for a special purpose you know whats more special than you you feel me its on baby lets get lost you dont need to call into work cause youre the boss for real want you to show me how you feel i consider myself lucky thats a big deal why well you got the key to my heart but you aint gonna need it id rather you open up my body and show me secrets you didnt know was inside no need for me to lie its too big its too wide its too strong it wont fit its too much its too tough he talk like this cause he can back it up he got a big ego such a huge ego i love his big ego its too much he walk like this cause he can back it up usually im humble right now i dont choose you can leave with me or you could have the blues some call it arrogant i call it confident you decide when you find on what im working with damn i know im killing you with them legs better yet them thighs matter a fact its my smile or maybe my eyes boy you \n"
     ]
    }
   ],
   "source": [
    "def filter_and_clean_data(data):\n",
    "    # remove string.punctuation and make all lyrics lowecase\n",
    "    data = \"\".join(d for d in data if d not in string.punctuation).lower()\n",
    "    # remove new line\n",
    "    data = data.replace(\"\\n\", \" \")\n",
    "    # ignore to just leave the character out of the Unicode result\n",
    "    return data.encode(\"utf8\").decode(\"ascii\",\"ignore\")\n",
    "\n",
    "# how many items to keep\n",
    "k_items = 200\n",
    "lyrics_corpus = [filter_and_clean_data(d) for d in lyrics_list[0:k_items]]\n",
    "\n",
    "print(lyrics_corpus[0])"
   ]
  },
  {
   "cell_type": "markdown",
   "metadata": {},
   "source": [
    "### Tokenize data to create \"clases\""
   ]
  },
  {
   "cell_type": "code",
   "execution_count": 25,
   "metadata": {},
   "outputs": [
    {
     "name": "stdout",
     "output_type": "stream",
     "text": [
      "Sample List [[30, 18], [30, 18, 51], [30, 18, 51, 1], [30, 18, 51, 1, 623], [30, 18, 51, 1, 623, 1]]\n",
      "Words list size:  3359\n"
     ]
    }
   ],
   "source": [
    "tokenizer = Tokenizer()\n",
    "\n",
    "def get_sequence_of_tokens(corpus):\n",
    "    tokenizer.fit_on_texts(corpus)\n",
    "    total_words = len(tokenizer.word_index) + 1\n",
    "    \n",
    "    ## create sequence of tokens \n",
    "    input_sequences = []\n",
    "    for line in corpus:\n",
    "        token_list = tokenizer.texts_to_sequences([line])[0]\n",
    "        for i in range(1, len(token_list)):\n",
    "            n_gram_sequence = token_list[:i+1]\n",
    "            input_sequences.append(n_gram_sequence)\n",
    "    return input_sequences, total_words\n",
    "\n",
    "list_of_sequences, words_list_size = get_sequence_of_tokens(lyrics_corpus)\n",
    "print(\"Sample List\", list_of_sequences[:5])\n",
    "print(\"Words list size: \", words_list_size)\n"
   ]
  },
  {
   "cell_type": "code",
   "execution_count": 26,
   "metadata": {},
   "outputs": [],
   "source": [
    "def generate_padded_sequences(input_sequences, words_list_size):\n",
    "    max_sequence_len = max([len(x) for x in input_sequences])\n",
    "    input_sequences = np.array(pad_sequences(input_sequences, maxlen=max_sequence_len, padding='pre'))\n",
    "    \n",
    "    predictors, label = input_sequences[:,:-1],input_sequences[:,-1]\n",
    "    label = ku.to_categorical(label, num_classes=words_list_size)\n",
    "    return predictors, label, max_sequence_len\n",
    "\n",
    "predictors, label, max_sequence_len = generate_padded_sequences(list_of_sequences, words_list_size)"
   ]
  },
  {
   "cell_type": "code",
   "execution_count": 27,
   "metadata": {},
   "outputs": [
    {
     "name": "stdout",
     "output_type": "stream",
     "text": [
      "Model: \"sequential_2\"\n",
      "_________________________________________________________________\n",
      "Layer (type)                 Output Shape              Param #   \n",
      "=================================================================\n",
      "embedding_2 (Embedding)      (None, 248, 10)           33590     \n",
      "_________________________________________________________________\n",
      "lstm_3 (LSTM)                (None, 248, 256)          273408    \n",
      "_________________________________________________________________\n",
      "lstm_4 (LSTM)                (None, 256)               525312    \n",
      "_________________________________________________________________\n",
      "dropout_2 (Dropout)          (None, 256)               0         \n",
      "_________________________________________________________________\n",
      "dense_2 (Dense)              (None, 3359)              863263    \n",
      "=================================================================\n",
      "Total params: 1,695,573\n",
      "Trainable params: 1,695,573\n",
      "Non-trainable params: 0\n",
      "_________________________________________________________________\n"
     ]
    }
   ],
   "source": [
    "def create_lstm_model(sequence_length, total_num_of_words):\n",
    "    input_length = sequence_length - 1\n",
    "    model = Sequential()\n",
    "    \n",
    "    # input Embedding Layer using all the words\n",
    "    model.add(Embedding(total_num_of_words, 10, input_length=input_length))\n",
    "    model.add(LSTM(256, return_sequences=True))  # single hidden LSTM layer with 256 memory units\n",
    "    model.add(LSTM(256))  # single hidden LSTM layer with 256 memory units\n",
    "    model.add(Dropout(0.1)) # dropout probability of 10\n",
    "    # output a probability prediction all the words (total_num_of_words) between 0 and 1\n",
    "    model.add(Dense(total_num_of_words, activation='softmax'))\n",
    "\n",
    "    model.compile(loss='categorical_crossentropy', optimizer='adam')\n",
    "    \n",
    "    return model\n",
    "\n",
    "model = create_lstm_model(max_sequence_len, words_list_size)\n",
    "model.summary()"
   ]
  },
  {
   "cell_type": "markdown",
   "metadata": {},
   "source": [
    "### Train LSTM Model\n",
    "It takes 5 hours to train to I just commented out"
   ]
  },
  {
   "cell_type": "code",
   "execution_count": 28,
   "metadata": {},
   "outputs": [],
   "source": [
    "# model.fit(predictors, label, epochs=20, verbose=1)\n",
    "# model_json = model.to_json()\n",
    "# with open(\"model_in_json.json\", \"w\") as json_file:\n",
    "#     json.dump(model_json, json_file)\n",
    "# model.save_weights(\"weights3.h5\")\n"
   ]
  },
  {
   "cell_type": "markdown",
   "metadata": {},
   "source": [
    "![Training Model](TrainingModel.png)\n"
   ]
  },
  {
   "cell_type": "markdown",
   "metadata": {},
   "source": [
    "### Load Trained Model"
   ]
  },
  {
   "cell_type": "code",
   "execution_count": 29,
   "metadata": {},
   "outputs": [],
   "source": [
    "with open('model_in_json.json','r') as f:\n",
    "    model_json = json.load(f)\n",
    "\n",
    "model = model_from_json(model_json)\n",
    "model.load_weights('weights.h5')"
   ]
  },
  {
   "cell_type": "code",
   "execution_count": 30,
   "metadata": {},
   "outputs": [],
   "source": [
    "def predict_and_generate_lytics_text_from_intial_text(initial_text, words_to_predict, model, max_sequence_len):\n",
    "    for _ in range(words_to_predict):\n",
    "        token_list = tokenizer.texts_to_sequences([initial_text])[0]\n",
    "        token_list = pad_sequences([token_list], maxlen=max_sequence_len-1, padding='pre')\n",
    "        predicted_id = model.predict_classes(token_list, verbose=0)\n",
    "        \n",
    "        output_word = \"\"\n",
    "        for word,index in tokenizer.word_index.items():\n",
    "            if index == predicted_id:\n",
    "                output_word = word\n",
    "                break\n",
    "        initial_text += \" \"+output_word\n",
    "    return initial_text.title()"
   ]
  },
  {
   "cell_type": "code",
   "execution_count": 31,
   "metadata": {},
   "outputs": [],
   "source": [
    "initial_lyrics = [\n",
    "    \"i love you baby yes\",\n",
    "    \"love and hate\",\n",
    "    \"you are mine\",\n",
    "    \"hey baby where are you\",\n",
    "    \"im the girl\",\n",
    "    \"easy for you to say\",\n",
    "    \"yea that is right\",\n",
    "    \"Beyonce was right\"\n",
    "]"
   ]
  },
  {
   "cell_type": "markdown",
   "metadata": {},
   "source": [
    "### Predict lyrics:"
   ]
  },
  {
   "cell_type": "code",
   "execution_count": 32,
   "metadata": {},
   "outputs": [
    {
     "name": "stdout",
     "output_type": "stream",
     "text": [
      "I Love You Baby Yes You Dont Even Be About A Star Im Not The Average Chick Eeeverybody Wants You\n",
      "Love And Hate You Home Me Me And I Dont Know If You Let Him Take Me From\n",
      "You Are Mine Is For The World Is Who Run The World Girls Who Run The World Girls\n",
      "Hey Baby Where Are You Comes Back Around Hey My Baby What Goes Around Comes Back Around Hey My Baby\n",
      "Im The Girl From Virgo The Joy Of Taste To The Sun With You Next To Me Forward\n",
      "Easy For You To Say You Dont Deserve It Wrong You Made Me Feel So Lucky 7 That I Can\n",
      "Yea That Is Right I See You Hurt Me I Got You So Help Me Jesus My Souls In\n",
      "Beyonce Was Right Baby Ahh Hat Jayz I Love You You Love Me I Love You You Got\n"
     ]
    }
   ],
   "source": [
    "final_lyrics = []\n",
    "\n",
    "for initial_lytics in initial_lyrics:\n",
    "    predicted = predict_and_generate_lytics_text_from_intial_text(initial_lytics, 15, model, max_sequence_len)\n",
    "    final_lyrics.append(predicted)\n",
    "    print(predicted)"
   ]
  },
  {
   "cell_type": "code",
   "execution_count": 33,
   "metadata": {},
   "outputs": [
    {
     "data": {
      "text/plain": [
       "'I Love You Baby Yes You Dont Even Be About A Star Im Not The Average Chick Eeeverybody Wants You'"
      ]
     },
     "execution_count": 33,
     "metadata": {},
     "output_type": "execute_result"
    }
   ],
   "source": [
    "final_lyrics[0]"
   ]
  },
  {
   "cell_type": "markdown",
   "metadata": {},
   "source": [
    "### Words to plot"
   ]
  },
  {
   "cell_type": "code",
   "execution_count": 34,
   "metadata": {},
   "outputs": [
    {
     "name": "stdout",
     "output_type": "stream",
     "text": [
      "['I', 'Love', 'You', 'Baby', 'Yes', 'You', 'Dont', 'Even', 'Be', 'About', 'A', 'Star', 'Im', 'Not', 'The', 'Average', 'Chick', 'Eeeverybody', 'Wants', 'You', 'Love', 'And', 'Hate', 'You', 'Home', 'Me', 'Me', 'And', 'I', 'Dont', 'Know', 'If', 'You', 'Let', 'Him', 'Take', 'Me', 'From', 'You', 'Are', 'Mine', 'Is', 'For', 'The', 'World', 'Is', 'Who', 'Run', 'The', 'World', 'Girls', 'Who', 'Run', 'The', 'World', 'Girls', 'Hey', 'Baby', 'Where', 'Are', 'You', 'Comes', 'Back', 'Around', 'Hey', 'My', 'Baby', 'What', 'Goes', 'Around', 'Comes', 'Back', 'Around', 'Hey', 'My', 'Baby', 'Im', 'The', 'Girl', 'From', 'Virgo', 'The', 'Joy', 'Of', 'Taste', 'To', 'The', 'Sun', 'With', 'You', 'Next', 'To', 'Me', 'Forward', 'Easy', 'For', 'You', 'To', 'Say', 'You', 'Dont', 'Deserve', 'It', 'Wrong', 'You', 'Made', 'Me', 'Feel', 'So', 'Lucky', '7', 'That', 'I', 'Can', 'Yea', 'That', 'Is', 'Right', 'I', 'See', 'You', 'Hurt', 'Me', 'I', 'Got', 'You', 'So', 'Help', 'Me', 'Jesus', 'My', 'Souls', 'In', 'Beyonce', 'Was', 'Right', 'Baby', 'Ahh', 'Hat', 'Jayz', 'I', 'Love', 'You', 'You', 'Love', 'Me', 'I', 'Love', 'You', 'You', 'Got']\n"
     ]
    }
   ],
   "source": [
    "final_lyrics_word_list = []\n",
    "for ly in final_lyrics:\n",
    "    splitted = ly.split(\" \")\n",
    "    for sp in splitted:\n",
    "         final_lyrics_word_list.append(sp)\n",
    "print(final_lyrics_word_list)"
   ]
  },
  {
   "cell_type": "markdown",
   "metadata": {},
   "source": [
    "### Plot results"
   ]
  },
  {
   "cell_type": "code",
   "execution_count": 35,
   "metadata": {},
   "outputs": [],
   "source": [
    "all_words = [word for line in lyrics_corpus for word in line.split()]"
   ]
  },
  {
   "cell_type": "code",
   "execution_count": 36,
   "metadata": {},
   "outputs": [
    {
     "data": {
      "text/plain": [
       "['oh', 'baby', 'how', 'you', 'doing', 'you', 'know', 'im', 'gonna', 'cut']"
      ]
     },
     "execution_count": 36,
     "metadata": {},
     "output_type": "execute_result"
    }
   ],
   "source": [
    "all_words[0:10]"
   ]
  },
  {
   "cell_type": "code",
   "execution_count": 37,
   "metadata": {},
   "outputs": [
    {
     "name": "stdout",
     "output_type": "stream",
     "text": [
      "Common words: [['UNK', 0], ('you', 1958), ('i', 1787), ('the', 1179), ('me', 1131), ('to', 862), ('and', 740), ('my', 696), ('a', 603), ('im', 502)]\n",
      "Sample data: ['oh', 'baby', 'how', 'you', 'doing', 'you', 'know', 'im', 'gonna', 'cut']\n"
     ]
    }
   ],
   "source": [
    "total_vocabulary_size = 50000\n",
    "\n",
    "def create_words_dataset(words_list):\n",
    "    common_words = [['UNK', -1]]\n",
    "    common_words.extend(collections.Counter(words_list).most_common(total_vocabulary_size - 1))\n",
    "    words_dictionary = {}\n",
    "    for word, _ in common_words:\n",
    "        words_dictionary[word] = len(words_dictionary)\n",
    "    data = []\n",
    "    bad_data_count = 0\n",
    "    for word in words_list:\n",
    "        if word in words_dictionary:\n",
    "            index = words_dictionary[word]\n",
    "        else:\n",
    "            index = 0 \n",
    "            bad_data_count += 1\n",
    "        data.append(index)\n",
    "    common_words[0][1] = bad_data_count\n",
    "    words_reverse_dictionary = dict(zip(words_dictionary.values(), words_dictionary.keys()))\n",
    "    return data, common_words, words_dictionary, words_reverse_dictionary\n",
    "\n",
    "data, common_words, words_dictionary, words_reverse_dictionary = create_words_dataset(all_words)\n",
    "\n",
    "print('Common words:', common_words[:10])\n",
    "print('Sample data:', [words_reverse_dictionary[i] for i in data[:10]])"
   ]
  },
  {
   "cell_type": "code",
   "execution_count": null,
   "metadata": {},
   "outputs": [],
   "source": []
  },
  {
   "cell_type": "code",
   "execution_count": 38,
   "metadata": {},
   "outputs": [],
   "source": [
    "data_index = 0\n",
    "\n",
    "# generate data for model.\n",
    "def created_words_batch(batch_size, num_skips, skip_window):\n",
    "    global data_index\n",
    "    assert batch_size % num_skips == 0\n",
    "    assert num_skips <= 2 * skip_window\n",
    "    batch = np.ndarray(shape=(batch_size), dtype=np.int32)\n",
    "    labels = np.ndarray(shape=(batch_size, 1), dtype=np.int32)\n",
    "    span = 2 * skip_window + 1\n",
    "    buffer = collections.deque(maxlen=span)\n",
    "    for _ in range(span):\n",
    "        buffer.append(data[data_index])\n",
    "        data_index = (data_index + 1) % len(data)\n",
    "    for i in range(batch_size // num_skips):\n",
    "        target = skip_window\n",
    "        targets_to_avoid = [skip_window]\n",
    "        for j in range(num_skips):\n",
    "            while target in targets_to_avoid:\n",
    "                target = random.randint(0, span - 1)\n",
    "            targets_to_avoid.append(target)\n",
    "            batch[i * num_skips + j] = buffer[skip_window]\n",
    "            labels[i * num_skips + j, 0] = buffer[target]\n",
    "        buffer.append(data[data_index])\n",
    "        data_index = (data_index + 1) % len(data)\n",
    "    return batch, labels\n",
    "\n",
    "batch, labels = created_words_batch(batch_size=8, num_skips=2, skip_window=1)"
   ]
  },
  {
   "cell_type": "markdown",
   "metadata": {},
   "source": [
    "### Train Model"
   ]
  },
  {
   "cell_type": "code",
   "execution_count": 39,
   "metadata": {},
   "outputs": [
    {
     "name": "stdout",
     "output_type": "stream",
     "text": [
      "Average loss at epoch  0 :  283.5305480957031\n",
      "Average loss at epoch  1000 :  138.3710802001953\n",
      "Average loss at epoch  2000 :  72.19819951629638\n",
      "Average loss at epoch  3000 :  50.757322302818295\n",
      "Average loss at epoch  4000 :  37.48639799594879\n",
      "Average loss at epoch  5000 :  28.284880152463913\n",
      "Average loss at epoch  6000 :  22.953699594020843\n",
      "Average loss at epoch  7000 :  18.97121021950245\n",
      "Average loss at epoch  8000 :  15.0999660551548\n",
      "Average loss at epoch  9000 :  13.295054379105569\n",
      "Average loss at epoch  10000 :  10.821265006780624\n",
      "Average loss at epoch  11000 :  9.007525397777558\n",
      "Average loss at epoch  12000 :  8.073492198884487\n",
      "Average loss at epoch  13000 :  7.487640174031258\n",
      "Average loss at epoch  14000 :  7.00220100736618\n",
      "Average loss at epoch  15000 :  5.929356953024864\n",
      "Average loss at epoch  16000 :  5.975418219208717\n",
      "Average loss at epoch  17000 :  4.929553095161915\n",
      "Average loss at epoch  18000 :  4.814177041113377\n",
      "Average loss at epoch  19000 :  4.46700896179676\n",
      "Average loss at epoch  20000 :  4.211681538939476\n"
     ]
    }
   ],
   "source": [
    "# variables to tune!\n",
    "batch_size = 128\n",
    "embedding_size = 128 \n",
    "skip_window = 1 \n",
    "num_skips = 2 \n",
    "valid_size = 16 \n",
    "valid_window = 100 \n",
    "valid_examples = np.random.choice(valid_window, valid_size, replace=False)\n",
    "num_sampled = 64\n",
    "\n",
    "graph = tf.Graph()\n",
    "\n",
    "with graph.as_default():\n",
    "    train_inputs = tf.placeholder(tf.int32, shape=[batch_size])\n",
    "    train_labels = tf.placeholder(tf.int32, shape=[batch_size, 1])\n",
    "    valid_dataset = tf.constant(valid_examples, dtype=tf.int32)\n",
    "    \n",
    "    embeddings = tf.Variable(tf.random_uniform([total_vocabulary_size, embedding_size], -1.0, 1.0))\n",
    "    embed = tf.nn.embedding_lookup(embeddings, train_inputs)\n",
    "    nce_weights = tf.Variable(tf.truncated_normal([total_vocabulary_size, embedding_size], stddev=1.0 / math.sqrt(embedding_size)))\n",
    "    nce_biases = tf.Variable(tf.zeros([total_vocabulary_size]))\n",
    "    loss = tf.reduce_mean(tf.nn.nce_loss(weights=nce_weights, biases=nce_biases,\n",
    "                     labels=train_labels, inputs=embed, num_sampled=num_sampled, num_classes=total_vocabulary_size))\n",
    "    # SGD optimizer with a learning rate of 1.0\n",
    "    optimizer = tf.train.GradientDescentOptimizer(1.0).minimize(loss)\n",
    "    # use the cosine similarity between between batches ans examples\n",
    "    norm = tf.sqrt(tf.reduce_sum(tf.square(embeddings), 1, keep_dims=True))\n",
    "    normalized_embeddings = embeddings / norm\n",
    "    valid_embeddings = tf.nn.embedding_lookup(normalized_embeddings, valid_dataset)\n",
    "    similarity = tf.matmul(valid_embeddings, normalized_embeddings, transpose_b=True)\n",
    "    init = tf.initialize_all_variables()\n",
    "    \n",
    "# steps to train the model\n",
    "number_of_epoch = 20001\n",
    "\n",
    "steplist=[]\n",
    "losslist=[]\n",
    "with tf.Session(graph=graph) as session:\n",
    "    init.run()\n",
    "\n",
    "    average_loss = 0\n",
    "    for epoch in xrange(number_of_epoch):\n",
    "        # create a batch of training data\n",
    "        batch_inputs, batch_labels = created_words_batch(batch_size, num_skips, skip_window)\n",
    "        feed_dict = {train_inputs: batch_inputs, train_labels: batch_labels}\n",
    "        \n",
    "        _, loss_val = session.run([optimizer, loss], feed_dict=feed_dict)\n",
    "        average_loss += loss_val        \n",
    "        if epoch % 1000 == 0:\n",
    "            steplist.append(epoch)\n",
    "            if epoch > 0:\n",
    "                average_loss /= 1000\n",
    "            print(\"Average loss at epoch \", epoch, \": \", average_loss)\n",
    "            losslist.append(average_loss)\n",
    "            average_loss = 0\n",
    "    final_embeddings = normalized_embeddings.eval()    "
   ]
  },
  {
   "cell_type": "markdown",
   "metadata": {},
   "source": [
    "### Create Plot visualization function for word simirarities"
   ]
  },
  {
   "cell_type": "code",
   "execution_count": 40,
   "metadata": {},
   "outputs": [],
   "source": [
    "\n",
    "def plot_with_labels(final_embeddings, li, plot_only, filename='lyrics_visualization.png'):\n",
    "    tsne = TSNE(perplexity=30, n_components=2, init='pca', n_iter=5000)\n",
    "    list_ = [x.lower() for x in li]\n",
    "    nums = []\n",
    "    new_list = []\n",
    "    for i in words_reverse_dictionary:\n",
    "        if words_reverse_dictionary[i] in list_:\n",
    "            nums.append(i)\n",
    "            new_list.append(words_reverse_dictionary[i])\n",
    "\n",
    "    low_dim_embs = tsne.fit_transform(final_embeddings[nums, :])\n",
    "    labels = [words_reverse_dictionary[i] for i in nums]\n",
    "    \n",
    "    assert low_dim_embs.shape[0] >= len(labels), \"More labels than embeddings\"\n",
    "    plt.figure(figsize=(18, 18))    \n",
    "    vec_x = [] \n",
    "    vec_y = []\n",
    "    for i, label in enumerate(labels):\n",
    "        x, y = low_dim_embs[i, :]\n",
    "        vec_x.append(x)\n",
    "        vec_y.append(y)\n",
    "        plt.scatter(x, y,s=50)\n",
    "        plt.annotate(label, xy=(x, y), xytext=(1, 1), textcoords='offset points', ha='right', va='bottom')\n",
    "        display.clear_output(wait=True)\n",
    "        display.display(plt.gcf())\n",
    "        time.sleep(0.1)\n",
    "    display.clear_output(wait=True)\n",
    "       \n",
    "    for i, label in enumerate(labels):\n",
    "        plt.plot(vec_x, vec_y,'.r-', markersize=10, linewidth=10)\n",
    "        display.clear_output(wait=True)\n",
    "        display.display(plt.gcf())\n",
    "        time.sleep(0.1)\n",
    "    display.clear_output(wait=True)  \n",
    "    # save the plot\n",
    "    plt.savefig(filename)\n",
    "    "
   ]
  },
  {
   "cell_type": "markdown",
   "metadata": {},
   "source": [
    "### Predicted lyrics words similarities to display:"
   ]
  },
  {
   "cell_type": "code",
   "execution_count": 41,
   "metadata": {},
   "outputs": [
    {
     "name": "stdout",
     "output_type": "stream",
     "text": [
      "['I', 'Love', 'You', 'Baby', 'Yes', 'You', 'Dont', 'Even', 'Be', 'About', 'A', 'Star', 'Im', 'Not', 'The', 'Average', 'Chick', 'Eeeverybody', 'Wants', 'You', 'Love', 'And', 'Hate', 'You', 'Home', 'Me', 'Me', 'And', 'I', 'Dont', 'Know', 'If', 'You', 'Let', 'Him', 'Take', 'Me', 'From', 'You', 'Are', 'Mine', 'Is', 'For', 'The', 'World', 'Is', 'Who', 'Run', 'The', 'World', 'Girls', 'Who', 'Run', 'The', 'World', 'Girls', 'Hey', 'Baby', 'Where', 'Are', 'You', 'Comes', 'Back', 'Around', 'Hey', 'My', 'Baby', 'What', 'Goes', 'Around', 'Comes', 'Back', 'Around', 'Hey', 'My', 'Baby', 'Im', 'The', 'Girl', 'From', 'Virgo', 'The', 'Joy', 'Of', 'Taste', 'To', 'The', 'Sun', 'With', 'You', 'Next', 'To', 'Me', 'Forward', 'Easy', 'For', 'You', 'To', 'Say', 'You', 'Dont', 'Deserve', 'It', 'Wrong', 'You', 'Made', 'Me', 'Feel', 'So', 'Lucky', '7', 'That', 'I', 'Can', 'Yea', 'That', 'Is', 'Right', 'I', 'See', 'You', 'Hurt', 'Me', 'I', 'Got', 'You', 'So', 'Help', 'Me', 'Jesus', 'My', 'Souls', 'In', 'Beyonce', 'Was', 'Right', 'Baby', 'Ahh', 'Hat', 'Jayz', 'I', 'Love', 'You', 'You', 'Love', 'Me', 'I', 'Love', 'You', 'You', 'Got']\n"
     ]
    }
   ],
   "source": [
    "print(final_lyrics_word_list)"
   ]
  },
  {
   "cell_type": "code",
   "execution_count": 42,
   "metadata": {},
   "outputs": [
    {
     "data": {
      "image/png": "[encoded data removed]",
      "text/plain": [
       "<Figure size 1296x1296 with 1 Axes>"
      ]
     },
     "metadata": {
      "needs_background": "light"
     },
     "output_type": "display_data"
    }
   ],
   "source": [
    "plot_with_labels(final_embeddings, final_lyrics_word_list, 10)"
   ]
  },
  {
   "cell_type": "code",
   "execution_count": null,
   "metadata": {},
   "outputs": [],
   "source": []
  }
 ],
 "metadata": {
  "kernelspec": {
   "display_name": "Python 3",
   "language": "python",
   "name": "python3"
  },
  "language_info": {
   "codemirror_mode": {
    "name": "ipython",
    "version": 3
   },
   "file_extension": ".py",
   "mimetype": "text/x-python",
   "name": "python",
   "nbconvert_exporter": "python",
   "pygments_lexer": "ipython3",
   "version": "3.7.3"
  }
 },
 "nbformat": 4,
 "nbformat_minor": 2
}
